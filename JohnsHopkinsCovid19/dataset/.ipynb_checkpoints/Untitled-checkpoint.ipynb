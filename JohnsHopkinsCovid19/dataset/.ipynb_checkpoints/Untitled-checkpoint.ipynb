{
 "cells": [
  {
   "cell_type": "code",
   "execution_count": null,
   "id": "a4a0f821",
   "metadata": {},
   "outputs": [],
   "source": [
    "from IPython.display import Markdown\n",
    "Markdown(combined_values_Confirmed)\n",
    "\n",
    "\n",
    "\n",
    "\n",
    "combined_values_Confirmed_Evolution\n",
    "\n",
    "combined_values_Confirmed_log\n",
    "\n",
    "combined_values_Confirmed_Evolution_log\n",
    "\n",
    "combined_values_Confirmed_Evolution_diff\n",
    "\n"
   ]
  }
 ],
 "metadata": {
  "kernelspec": {
   "display_name": "Python 3 (ipykernel)",
   "language": "python",
   "name": "python3"
  },
  "language_info": {
   "codemirror_mode": {
    "name": "ipython",
    "version": 3
   },
   "file_extension": ".py",
   "mimetype": "text/x-python",
   "name": "python",
   "nbconvert_exporter": "python",
   "pygments_lexer": "ipython3",
   "version": "3.10.9"
  }
 },
 "nbformat": 4,
 "nbformat_minor": 5
}
