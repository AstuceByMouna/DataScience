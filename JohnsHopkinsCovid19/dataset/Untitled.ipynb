{
 "cells": [
  {
   "cell_type": "code",
   "execution_count": null,
   "id": "4a491905",
   "metadata": {},
   "outputs": [],
   "source": [
    "\n",
    "\n",
    "# Calculate Mean Absolute Error (MAE)\n",
    "mae = mean_absolute_error(test_series, forecast)\n",
    "print(f\"Mean Absolute Error (MAE): {mae:.2f}\")\n",
    "\n",
    "# Calculate Mean Squared Error (MSE)\n",
    "mse = mean_squared_error(test_series, forecast)\n",
    "print(f\"Mean Squared Error (MSE): {mse:.2f}\")\n",
    "\n",
    "# Calculate AIC and BIC\n",
    "aic = model_fit.aic\n",
    "bic = model_fit.bic\n",
    "\n",
    "\n",
    "# Store formatted strings in a single variable with line breaks and color\n",
    "combined_values_Confirmed = (\n",
    "    \"<b><font color='green'>Evaluation of ARIMA model for Confirmed column : </font></b><br>\"\n",
    "    f\"R2 on the training sample: {r2_train:.2f}<br>\"\n",
    "    f\"R2 on the test sample: {r2_test:.2f}<br>\"\n",
    "    f\"Mean Absolute Error (MAE): {mae:.2f}<br>\"\n",
    "    f\"Mean Squared Error (MSE): {mse:.2f}<br>\"\n",
    "    f\"AIC: {aic:.2f}<br>\"\n",
    "    f\"BIC: {bic:.2f}\"\n",
    ")\n",
    "\n",
    "\n",
    "\n",
    "Markdown(combined_values_Deaths)\n",
    "Markdown(combined_values_Death_Evolution)\n",
    "Markdown(combined_values_Deaths_log)\n",
    "Markdown(combined_values_Death_Evolution_2diff)\n",
    "Markdown(combined_values_Death_Evolution_diff)\n",
    "\n",
    "\n",
    "\n",
    "Markdown(combined_values_Recovered)\n",
    "Markdown(combined_values_Recovered_Evolution)\n",
    "Markdown(combined_values_Recovered_log)\n",
    "Markdown(combined_values_Recovered_Evolution_log)\n",
    "Markdown(combined_values_Recovered_Evolution_diff)\n",
    "\n",
    "\n",
    "\n",
    "\n",
    "Markdown(combined_values_SARIMA_Recovered)\n",
    "Markdown(combined_values_SARIMA_Recovered_Evolution)\n",
    "Markdown(combined_values_SARIMA_Recovered_log)\n",
    "Markdown(combined_values_SARIMA_Recovered_Evolution_log)\n",
    "Markdown(combined_values_SARIMA_Recovered_Evolution_diff)"
   ]
  }
 ],
 "metadata": {
  "kernelspec": {
   "display_name": "Python 3 (ipykernel)",
   "language": "python",
   "name": "python3"
  },
  "language_info": {
   "codemirror_mode": {
    "name": "ipython",
    "version": 3
   },
   "file_extension": ".py",
   "mimetype": "text/x-python",
   "name": "python",
   "nbconvert_exporter": "python",
   "pygments_lexer": "ipython3",
   "version": "3.10.9"
  }
 },
 "nbformat": 4,
 "nbformat_minor": 5
}
