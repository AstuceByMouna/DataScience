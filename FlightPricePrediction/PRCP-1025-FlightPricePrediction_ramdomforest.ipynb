{
 "cells": [
  {
   "cell_type": "code",
   "execution_count": 327,
   "id": "a70f495d",
   "metadata": {},
   "outputs": [],
   "source": [
    "# import libraries\n",
    "import pandas as pd\n",
    "import numpy as np\n",
    "import seaborn as sns\n",
    "sns.set()\n",
    "import matplotlib.pyplot as plt\n",
    "%matplotlib inline\n",
    "import datetime as dt\n",
    "from datetime import datetime\n",
    "import time\n",
    "from datetime import timedelta\n",
    "import re\n",
    "import warnings\n",
    "warnings.filterwarnings('ignore')"
   ]
  },
  {
   "cell_type": "code",
   "execution_count": 328,
   "id": "25dd8bb5",
   "metadata": {},
   "outputs": [],
   "source": [
    "from sklearn.preprocessing import LabelEncoder\n",
    "from sklearn.preprocessing import MinMaxScaler\n",
    "\n",
    "def preprocess_input_data(data):\n",
    "    df = pd.DataFrame(data)\n",
    "    if 'Delhi' in df['Destination'].values:\n",
    "        df['Destination'] = df['Destination'].replace('Delhi', 'New Delhi')\n",
    "        \n",
    "    df.dropna(subset=['Route'], inplace=True)\n",
    "    \n",
    "    df.dropna(subset=['Total_Stops'], inplace=True)\n",
    "    df.drop_duplicates(inplace=True)\n",
    "    Q1=df['Price'].quantile(0.25)\n",
    "    Q3=df['Price'].quantile(0.75)\n",
    "    IQR=Q3-Q1\n",
    "    lower_limit=Q1-1.5*IQR\n",
    "    upper_limit=Q3+1.5*IQR\n",
    "    if ((len(df.loc[df['Price'] > upper_limit]) / len(df)) <= 0.5) or ((len(df.loc[df['Price'] < lower_limit]) / len(df)) <= 0.5):\n",
    "        df.loc[df['Price'] > upper_limit, \"Price\"] = df[\"Price\"].median()\n",
    "        df.loc[df['Price'] < lower_limit, \"Price\"] = df[\"Price\"].median()\n",
    "    label = LabelEncoder()\n",
    "    df.Airline=label.fit_transform(df.Airline)\n",
    "    df.Source=label.fit_transform(df.Source)    \n",
    "    df.Destination=label.fit_transform(df.Destination)    \n",
    "    df.replace({'non-stop':0,'1 stop':1,'2 stops':2,\n",
    "            '3 stops':3,'4 stops':4},inplace=True)\n",
    "    df[\"Date_of_Journey\"]=pd.to_datetime(df[\"Date_of_Journey\"],format=\"%d/%m/%Y\")\n",
    "    df['Journey_Date'] = df['Date_of_Journey'].dt.day\n",
    "    df['Journey_Month'] = df['Date_of_Journey'].dt.month\n",
    "    df['Dep_Hour'] = pd.to_datetime(df['Dep_Time']).dt.hour\n",
    "    df['Dep_Minute'] = pd.to_datetime(df['Dep_Time']).dt.minute\n",
    "    df['Arr_Hour'] = pd.to_datetime(df['Arrival_Time']).dt.hour\n",
    "    df['Arr_Minute'] = pd.to_datetime(df['Arrival_Time']).dt.minute\n",
    "    df['Duration_hours'] = df['Duration'].str.extract(r'(\\d+)h').astype(float)\n",
    "    df['Duration_minutes'] = df['Duration'].str.extract(r'(\\d+)min').astype(float)\n",
    "    df['Duration_hours'].fillna(0, inplace=True)\n",
    "    df['Duration_minutes'].fillna(0, inplace=True)\n",
    "    df.drop([\"Route\"],axis=1,inplace=True)\n",
    "    df.drop([\"Additional_Info\"],axis=1,inplace=True)\n",
    "    df.drop(columns=['Date_of_Journey'],inplace=True)\n",
    "    df.drop(columns=['Dep_Time'],inplace=True)\n",
    "    df.drop(columns=['Arrival_Time'],inplace=True)\n",
    "    df.drop(columns=['Duration'],inplace=True)\n",
    "    df.drop(columns=['Duration_minutes'],inplace=True)\n",
    "    x=df.drop(\"Price\",axis=1)\n",
    "    scaler=MinMaxScaler()\n",
    "    x=scaler.fit_transform(x)\n",
    "    df.columns\n",
    "    return df"
   ]
  },
  {
   "cell_type": "code",
   "execution_count": 329,
   "id": "2eb5b6b1",
   "metadata": {},
   "outputs": [],
   "source": [
    "# Loading the dataset\n",
    "data = pd.read_excel(\"Flight_Fare.xlsx\")\n",
    "# converting to pandas dataframe\n",
    "df = pd.DataFrame(data)"
   ]
  },
  {
   "cell_type": "code",
   "execution_count": 330,
   "id": "73cc3cee",
   "metadata": {},
   "outputs": [],
   "source": [
    "# Replace 'Delhi' with 'New Delhi' in the 'Destination' column\n",
    "# as we need to clean the data before analysing it\n",
    "df['Destination'] = df['Destination'].replace('Delhi', 'New Delhi')"
   ]
  },
  {
   "cell_type": "code",
   "execution_count": 331,
   "id": "e46baf8b",
   "metadata": {},
   "outputs": [
    {
     "name": "stdout",
     "output_type": "stream",
     "text": [
      "Index(['Airline', 'Date_of_Journey', 'Source', 'Destination', 'Route',\n",
      "       'Dep_Time', 'Arrival_Time', 'Duration', 'Total_Stops',\n",
      "       'Additional_Info', 'Price'],\n",
      "      dtype='object')\n"
     ]
    }
   ],
   "source": [
    "# verifying if all the columns mentioned above are dropped\n",
    "print(df.columns)"
   ]
  },
  {
   "cell_type": "code",
   "execution_count": 332,
   "id": "2b3fb73b",
   "metadata": {},
   "outputs": [
    {
     "data": {
      "text/plain": [
       "Airline            0\n",
       "Date_of_Journey    0\n",
       "Source             0\n",
       "Destination        0\n",
       "Route              1\n",
       "Dep_Time           0\n",
       "Arrival_Time       0\n",
       "Duration           0\n",
       "Total_Stops        1\n",
       "Additional_Info    0\n",
       "Price              0\n",
       "dtype: int64"
      ]
     },
     "execution_count": 332,
     "metadata": {},
     "output_type": "execute_result"
    }
   ],
   "source": [
    "# checking the missing values present in the data\n",
    "df.isnull().sum()"
   ]
  },
  {
   "cell_type": "code",
   "execution_count": 333,
   "id": "bc969004",
   "metadata": {},
   "outputs": [],
   "source": [
    "# dropping missing values from route and total_stops columns\n",
    "df.dropna(subset=['Route'], inplace=True)\n",
    "df.dropna(subset=['Total_Stops'], inplace=True)"
   ]
  },
  {
   "cell_type": "code",
   "execution_count": 334,
   "id": "d36cf9f2",
   "metadata": {},
   "outputs": [
    {
     "data": {
      "text/plain": [
       "Airline            0\n",
       "Date_of_Journey    0\n",
       "Source             0\n",
       "Destination        0\n",
       "Route              0\n",
       "Dep_Time           0\n",
       "Arrival_Time       0\n",
       "Duration           0\n",
       "Total_Stops        0\n",
       "Additional_Info    0\n",
       "Price              0\n",
       "dtype: int64"
      ]
     },
     "execution_count": 334,
     "metadata": {},
     "output_type": "execute_result"
    }
   ],
   "source": [
    "# Re check for missing values\n",
    "df.isnull().sum()"
   ]
  },
  {
   "cell_type": "markdown",
   "id": "1d1d9565",
   "metadata": {},
   "source": [
    "### Check for duplicates and handling them"
   ]
  },
  {
   "cell_type": "code",
   "execution_count": 335,
   "id": "d58a6f22",
   "metadata": {},
   "outputs": [
    {
     "data": {
      "text/plain": [
       "0"
      ]
     },
     "execution_count": 335,
     "metadata": {},
     "output_type": "execute_result"
    }
   ],
   "source": [
    "df.duplicated().sum()\n",
    "#Remove Duplicate Rows\n",
    "df.drop_duplicates(inplace=True)\n",
    "# Re check for duplicate values\n",
    "df.duplicated().sum()"
   ]
  },
  {
   "cell_type": "markdown",
   "id": "e4139cf5",
   "metadata": {},
   "source": [
    "### Check for outliers "
   ]
  },
  {
   "cell_type": "code",
   "execution_count": 336,
   "id": "e247b38e",
   "metadata": {},
   "outputs": [],
   "source": [
    "# find Q1 and Q3\n",
    "Q1=df['Price'].quantile(0.25)\n",
    "Q3=df['Price'].quantile(0.75)\n",
    "# find IQR\n",
    "IQR=Q3-Q1\n",
    "# find lower limit and upper limit\n",
    "lower_limit=Q1-1.5*IQR\n",
    "upper_limit=Q3+1.5*IQR"
   ]
  },
  {
   "cell_type": "code",
   "execution_count": 337,
   "id": "148db184",
   "metadata": {},
   "outputs": [],
   "source": [
    "if ((len(df.loc[df['Price'] > upper_limit]) / len(df)) <= 0.5) or ((len(df.loc[df['Price'] < lower_limit]) / len(df)) <= 0.5):\n",
    "    df.loc[df['Price'] > upper_limit, \"Price\"] = df[\"Price\"].median()\n",
    "    df.loc[df['Price'] < lower_limit, \"Price\"] = df[\"Price\"].median()"
   ]
  },
  {
   "cell_type": "code",
   "execution_count": 338,
   "id": "4e8862af",
   "metadata": {},
   "outputs": [],
   "source": [
    "## Encoding Airline, Source and Destination using Label Encoder\n",
    "\n",
    "from sklearn.preprocessing import LabelEncoder\n",
    "#importing label encoder from sklearn \n",
    "\n",
    "label = LabelEncoder()#object creation\n",
    "\n",
    "df.Airline=label.fit_transform(df.Airline)\n",
    "#applying label encoder "
   ]
  },
  {
   "cell_type": "code",
   "execution_count": 339,
   "id": "ecda9be1",
   "metadata": {},
   "outputs": [],
   "source": [
    "df.Source=label.fit_transform(df.Source)"
   ]
  },
  {
   "cell_type": "code",
   "execution_count": 340,
   "id": "881e9159",
   "metadata": {},
   "outputs": [],
   "source": [
    "df.Destination=label.fit_transform(df.Destination)"
   ]
  },
  {
   "cell_type": "code",
   "execution_count": 341,
   "id": "3216f3cc",
   "metadata": {},
   "outputs": [],
   "source": [
    "## Manual encoding Total_Stops\n",
    "df.replace({'non-stop':0,'1 stop':1,'2 stops':2,\n",
    "            '3 stops':3,'4 stops':4},inplace=True)"
   ]
  },
  {
   "cell_type": "code",
   "execution_count": 342,
   "id": "80ce7889",
   "metadata": {},
   "outputs": [],
   "source": [
    "# Convert date_of_journey column to datetime object\n",
    "df[\"Date_of_Journey\"]=pd.to_datetime(df[\"Date_of_Journey\"],format=\"%d/%m/%Y\")\n",
    "\n",
    "# Extract date and month from date_of_journey\n",
    "df['Journey_Date'] = df['Date_of_Journey'].dt.day\n",
    "df['Journey_Month'] = df['Date_of_Journey'].dt.month\n",
    "\n",
    "# Extract hours and minutes from dep_time\n",
    "df['Dep_Hour'] = pd.to_datetime(df['Dep_Time']).dt.hour\n",
    "df['Dep_Minute'] = pd.to_datetime(df['Dep_Time']).dt.minute\n",
    "\n",
    "# Extract hours and minutes from arrival_time\n",
    "df['Arr_Hour'] = pd.to_datetime(df['Arrival_Time']).dt.hour\n",
    "df['Arr_Minute'] = pd.to_datetime(df['Arrival_Time']).dt.minute\n",
    "\n",
    "# extract hours and minutes from Duration\n",
    "df['Duration_hours'] = df['Duration'].str.extract(r'(\\d+)h').astype(float)\n",
    "df['Duration_minutes'] = df['Duration'].str.extract(r'(\\d+)min').astype(float)\n",
    "df['Duration_hours'].fillna(0, inplace=True)\n",
    "df['Duration_minutes'].fillna(0, inplace=True)\n",
    "\n"
   ]
  },
  {
   "cell_type": "code",
   "execution_count": 343,
   "id": "fe4c4e6c",
   "metadata": {},
   "outputs": [],
   "source": [
    "df.drop([\"Route\"],axis=1,inplace=True)\n",
    "df.drop([\"Additional_Info\"],axis=1,inplace=True)\n",
    "df.drop(columns=['Date_of_Journey'],inplace=True)\n",
    "df.drop(columns=['Dep_Time'],inplace=True)\n",
    "df.drop(columns=['Arrival_Time'],inplace=True)\n",
    "df.drop(columns=['Duration'],inplace=True)\n",
    "df.drop(columns=['Duration_minutes'],inplace=True)\n",
    "x=df.drop(\"Price\",axis=1)"
   ]
  },
  {
   "cell_type": "code",
   "execution_count": 344,
   "id": "a34714ec",
   "metadata": {},
   "outputs": [],
   "source": [
    "from sklearn.preprocessing import MinMaxScaler\n",
    "scaler=MinMaxScaler()\n",
    "x=scaler.fit_transform(x)\n"
   ]
  },
  {
   "cell_type": "markdown",
   "id": "416db9d4",
   "metadata": {},
   "source": [
    "## 6. Model Creation"
   ]
  },
  {
   "cell_type": "code",
   "execution_count": 345,
   "id": "469c7bb9",
   "metadata": {},
   "outputs": [],
   "source": [
    "# separating predictors and target \n",
    "x=df.drop([\"Price\"],axis=1)\n",
    "y=df[\"Price\"]"
   ]
  },
  {
   "cell_type": "code",
   "execution_count": 346,
   "id": "ca836c77",
   "metadata": {},
   "outputs": [],
   "source": [
    "# separating training and testing data\n",
    "from sklearn.model_selection import train_test_split\n",
    "x_train,x_test,y_train,y_test=train_test_split(x,y,test_size=0.25,random_state=42)"
   ]
  },
  {
   "cell_type": "code",
   "execution_count": 347,
   "id": "fa3aa472",
   "metadata": {},
   "outputs": [
    {
     "data": {
      "text/plain": [
       "0.8352160757358345"
      ]
     },
     "execution_count": 347,
     "metadata": {},
     "output_type": "execute_result"
    }
   ],
   "source": [
    "from sklearn.metrics import mean_squared_error,r2_score,mean_absolute_error\n",
    "import math\n",
    "from sklearn.ensemble import RandomForestRegressor\n",
    "model=RandomForestRegressor(n_estimators=100,max_depth=15,\n",
    "                            min_samples_split=5,min_samples_leaf=5,\n",
    "                            max_features=0.8,bootstrap=True)\n",
    "model.fit(x_train,y_train)\n",
    "y_pred=model.predict(x_test)\n",
    "mse3=mean_squared_error(y_test,y_pred)\n",
    "mae3=mean_absolute_error(y_test,y_pred)\n",
    "model_score=r2_score(y_test,y_pred)\n",
    "model_score"
   ]
  },
  {
   "cell_type": "code",
   "execution_count": 348,
   "id": "c9d1b008",
   "metadata": {},
   "outputs": [
    {
     "data": {
      "text/plain": [
       "['flightPredictionModel.pkl']"
      ]
     },
     "execution_count": 348,
     "metadata": {},
     "output_type": "execute_result"
    }
   ],
   "source": [
    "import joblib\n",
    "joblib.dump(model, 'flightPredictionModel.pkl')"
   ]
  },
  {
   "cell_type": "code",
   "execution_count": 349,
   "id": "1de09d34",
   "metadata": {},
   "outputs": [],
   "source": [
    "flightPredictionloaded_model = joblib.load('your_model_filename.pkl')\n"
   ]
  },
  {
   "cell_type": "code",
   "execution_count": 350,
   "id": "9b80c601",
   "metadata": {},
   "outputs": [
    {
     "data": {
      "text/plain": [
       "0.8411554818699649"
      ]
     },
     "execution_count": 350,
     "metadata": {},
     "output_type": "execute_result"
    }
   ],
   "source": [
    "input_data = pd.read_excel(\"Flight_Fare2.xlsx\")\n",
    "input_data = preprocess_input_data(input_data)\n",
    "true_values = input_data['Price']  # 'Price' is the column with true values\n",
    "\n",
    "input_data.drop('Price', axis=1, inplace=True)\n",
    "predictions = flightPredictionloaded_model.predict(input_data)\n",
    "r2 = r2_score(true_values, predictions)\n",
    "r2\n"
   ]
  },
  {
   "cell_type": "code",
   "execution_count": null,
   "id": "65ea6cde",
   "metadata": {},
   "outputs": [],
   "source": []
  }
 ],
 "metadata": {
  "kernelspec": {
   "display_name": "Python 3 (ipykernel)",
   "language": "python",
   "name": "python3"
  },
  "language_info": {
   "codemirror_mode": {
    "name": "ipython",
    "version": 3
   },
   "file_extension": ".py",
   "mimetype": "text/x-python",
   "name": "python",
   "nbconvert_exporter": "python",
   "pygments_lexer": "ipython3",
   "version": "3.10.9"
  }
 },
 "nbformat": 4,
 "nbformat_minor": 5
}
